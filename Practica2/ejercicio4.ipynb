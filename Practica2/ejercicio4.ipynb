{
 "cells": [
  {
   "cell_type": "code",
   "execution_count": 100,
   "id": "66141b57-b6da-4d89-a56d-150467ed8c58",
   "metadata": {},
   "outputs": [
    {
     "name": "stdout",
     "output_type": "stream",
     "text": [
      "evaluacion: 0.55\n"
     ]
    }
   ],
   "source": [
    "# representando atributos ordinales como entero unico sin normalizar\n",
    "import pandas as pd\n",
    "from sklearn.linear_model import Perceptron\n",
    "from sklearn.metrics import accuracy_score\n",
    "\n",
    "df_train=pd.read_csv(\"drugs_train.csv\")\n",
    "df_train[\"BP\"]=df_train[\"BP\"].map({\"HIGH\":2,\"NORMAL\":1,\"LOW\":0})\n",
    "df_train[\"Cholesterol\"]=df_train[\"Cholesterol\"].map({\"HIGH\":2,\"NORMAL\":1})\n",
    "df_train[\"Sex\"]=df_train[\"Sex\"].map({\"M\":1,\"F\":0})\n",
    "x_train=df_train[[\"Age\",\"Sex\",\"BP\",\"Cholesterol\",\"Na\",\"K\"]].to_numpy()\n",
    "\n",
    "y_train=df_train[\"Drug\"].map({\"drugY\":1,\"drugC\":0,\"drugB\":0,\"drugA\":0,\"drugX\":0}).to_numpy()\n",
    "\n",
    "model=Perceptron(max_iter=1000, random_state=42)\n",
    "model.fit(x_train,y_train)\n",
    "\n",
    "df_test=pd.read_csv(\"drugs_test.csv\")\n",
    "df_test[\"BP\"]=df_test[\"BP\"].map({\"HIGH\":2,\"NORMAL\":1,\"LOW\":0})\n",
    "df_test[\"Cholesterol\"]=df_test[\"Cholesterol\"].map({\"HIGH\":2,\"NORMAL\":1})\n",
    "df_test[\"Sex\"]=df_test[\"Sex\"].map({\"M\":1,\"F\":0})\n",
    "x_test=df_test[[\"Age\",\"Sex\",\"BP\",\"Cholesterol\",\"Na\",\"K\"]].to_numpy()\n",
    "\n",
    "y_test=df_test[\"Drug\"].map({\"drugY\":1,\"drugC\":0,\"drugB\":0,\"drugA\":0,\"drugX\":0}).to_numpy()\n",
    "y_pred=model.predict(x_test)\n",
    "print(\"evaluacion:\",accuracy_score(y_test,y_pred))\n",
    "\n"
   ]
  },
  {
   "cell_type": "code",
   "execution_count": 99,
   "id": "50bfccf9-d895-4194-9aca-85766dc24559",
   "metadata": {},
   "outputs": [
    {
     "name": "stdout",
     "output_type": "stream",
     "text": [
      "Accuracy (binario/dummy, SIN normalizar): 0.55\n",
      "Columnas de X_train: ['Age', 'Na', 'K', 'Sex_F', 'Sex_M', 'BP_LOW', 'BP_NORMAL', 'BP_HIGH', 'Cholesterol_LOW', 'Cholesterol_NORMAL', 'Cholesterol_HIGH']\n"
     ]
    }
   ],
   "source": [
    "import pandas as pd\n",
    "from pandas.api.types import CategoricalDtype\n",
    "from sklearn.linear_model import Perceptron\n",
    "from sklearn.metrics import accuracy_score\n",
    "\n",
    "# --- Cargar\n",
    "train = pd.read_csv(\"drugs_train.csv\")\n",
    "test  = pd.read_csv(\"drugs_test.csv\")\n",
    "\n",
    "# --- Definir categorías explícitas para garantizar mismas columnas\n",
    "sex_cat  = CategoricalDtype(categories=[\"F\",\"M\"])\n",
    "bp_cat   = CategoricalDtype(categories=[\"LOW\",\"NORMAL\",\"HIGH\"])\n",
    "chol_cat = CategoricalDtype(categories=[\"LOW\",\"NORMAL\",\"HIGH\"])  # dejo LOW por si aparece\n",
    "\n",
    "cat_cols = {\"Sex\": sex_cat, \"BP\": bp_cat, \"Cholesterol\": chol_cat}\n",
    "\n",
    "def binarizar(df):\n",
    "    df = df.copy()\n",
    "    # pasar a categórico con categorías fijas\n",
    "    for col, ctype in cat_cols.items():\n",
    "        df[col] = df[col].astype(ctype)\n",
    "    # one-hot para *todas* las categorías (sin drop_first)\n",
    "    df_bin = pd.get_dummies(df, columns=list(cat_cols.keys()), drop_first=False)\n",
    "    # target binario: habitual = 1 si drugY, sino 0\n",
    "    y = (df_bin[\"Drug\"].str.lower() == \"drugy\").astype(int)\n",
    "    X = df_bin.drop(columns=[\"Drug\"])\n",
    "    return X, y\n",
    "\n",
    "X_train, y_train = binarizar(train)\n",
    "X_test_raw, y_test = binarizar(test)\n",
    "\n",
    "# Alinear columnas de test a las de train (si falta alguna, se completa con 0)\n",
    "X_test = X_test_raw.reindex(columns=X_train.columns, fill_value=0)\n",
    "\n",
    "# --- Entrenar y evaluar (SIN normalizar)\n",
    "clf = Perceptron(max_iter=1000, random_state=42)\n",
    "clf.fit(X_train, y_train)\n",
    "y_pred = clf.predict(X_test)\n",
    "print(\"Accuracy (binario/dummy, SIN normalizar):\", accuracy_score(y_test, y_pred))\n",
    "\n",
    "# (Opcional) ver qué columnas binarias se generaron\n",
    "print(\"Columnas de X_train:\", list(X_train.columns))\n"
   ]
  },
  {
   "cell_type": "code",
   "execution_count": 104,
   "id": "9a0481b4-f0ed-4b3f-ada2-f683d220115c",
   "metadata": {},
   "outputs": [
    {
     "name": "stdout",
     "output_type": "stream",
     "text": [
      "evaluacion: 0.875\n"
     ]
    }
   ],
   "source": [
    "# representando atributos ordinales como entero unico con normalizacion lineal\n",
    "import pandas as pd\n",
    "from sklearn.linear_model import Perceptron\n",
    "from sklearn.metrics import accuracy_score\n",
    "from sklearn.preprocessing import MinMaxScaler\n",
    "df_train=pd.read_csv(\"drugs_train.csv\")\n",
    "df_train[\"BP\"]=df_train[\"BP\"].map({\"HIGH\":2,\"NORMAL\":1,\"LOW\":0})\n",
    "df_train[\"Cholesterol\"]=df_train[\"Cholesterol\"].map({\"HIGH\":2,\"NORMAL\":1})\n",
    "df_train[\"Sex\"]=df_train[\"Sex\"].map({\"M\":1,\"F\":0})\n",
    "x_train=df_train[[\"Age\",\"Sex\",\"BP\",\"Cholesterol\",\"Na\",\"K\"]].to_numpy()\n",
    "\n",
    "y_train=df_train[\"Drug\"].map({\"drugY\":1,\"drugC\":0,\"drugB\":0,\"drugA\":0,\"drugX\":0}).to_numpy()\n",
    "scaler=MinMaxScaler()\n",
    "x_train_norm=scaler.fit_transform(x_train)\n",
    "model=Perceptron(max_iter=1000, random_state=42)\n",
    "model.fit(x_train_norm,y_train)\n",
    "\n",
    "df_test=pd.read_csv(\"drugs_test.csv\")\n",
    "df_test[\"BP\"]=df_test[\"BP\"].map({\"HIGH\":2,\"NORMAL\":1,\"LOW\":0})\n",
    "df_test[\"Cholesterol\"]=df_test[\"Cholesterol\"].map({\"HIGH\":2,\"NORMAL\":1})\n",
    "df_test[\"Sex\"]=df_test[\"Sex\"].map({\"M\":1,\"F\":0})\n",
    "x_test=df_test[[\"Age\",\"Sex\",\"BP\",\"Cholesterol\",\"Na\",\"K\"]].to_numpy()\n",
    "x_test_norm=scaler.transform(x_test)\n",
    "\n",
    "y_test=df_test[\"Drug\"].map({\"drugY\":1,\"drugC\":0,\"drugB\":0,\"drugA\":0,\"drugX\":0}).to_numpy()\n",
    "\n",
    "y_pred=model.predict(x_test_norm)\n",
    "print(\"evaluacion:\",accuracy_score(y_test,y_pred))"
   ]
  },
  {
   "cell_type": "code",
   "execution_count": 105,
   "id": "d0a1c404-0fce-48f3-9794-05d8adf36309",
   "metadata": {},
   "outputs": [
    {
     "name": "stdout",
     "output_type": "stream",
     "text": [
      "evaluacion: 0.95\n"
     ]
    }
   ],
   "source": [
    "# representando atributos ordinales como entero unico con normalizacion media y desvio\n",
    "import pandas as pd\n",
    "from sklearn.linear_model import Perceptron\n",
    "from sklearn.metrics import accuracy_score\n",
    "from sklearn.preprocessing import StandardScaler\n",
    "scaler=StandardScaler()\n",
    "df_train=pd.read_csv(\"drugs_train.csv\")\n",
    "df_train[\"BP\"]=df_train[\"BP\"].map({\"HIGH\":2,\"NORMAL\":1,\"LOW\":0})\n",
    "df_train[\"Cholesterol\"]=df_train[\"Cholesterol\"].map({\"HIGH\":2,\"NORMAL\":1})\n",
    "df_train[\"Sex\"]=df_train[\"Sex\"].map({\"M\":1,\"F\":0})\n",
    "x_train=df_train[[\"Age\",\"Sex\",\"BP\",\"Cholesterol\",\"Na\",\"K\"]].to_numpy()\n",
    "\n",
    "y_train=df_train[\"Drug\"].map({\"drugY\":1,\"drugC\":0,\"drugB\":0,\"drugA\":0,\"drugX\":0}).to_numpy()\n",
    "\n",
    "x_train_norm=scaler.fit_transform(x_train)\n",
    "model=Perceptron(max_iter=1000, random_state=42)\n",
    "model.fit(x_train_norm,y_train)\n",
    "\n",
    "df_test=pd.read_csv(\"drugs_test.csv\")\n",
    "df_test[\"BP\"]=df_test[\"BP\"].map({\"HIGH\":2,\"NORMAL\":1,\"LOW\":0})\n",
    "df_test[\"Cholesterol\"]=df_test[\"Cholesterol\"].map({\"HIGH\":2,\"NORMAL\":1})\n",
    "df_test[\"Sex\"]=df_test[\"Sex\"].map({\"M\":1,\"F\":0})\n",
    "x_test=df_test[[\"Age\",\"Sex\",\"BP\",\"Cholesterol\",\"Na\",\"K\"]].to_numpy()\n",
    "x_test_norm=scaler.transform(x_test)\n",
    "\n",
    "y_test=df_test[\"Drug\"].map({\"drugY\":1,\"drugC\":0,\"drugB\":0,\"drugA\":0,\"drugX\":0}).to_numpy()\n",
    "\n",
    "y_pred=model.predict(x_test_norm)\n",
    "print(\"evaluacion:\",accuracy_score(y_test,y_pred))"
   ]
  },
  {
   "cell_type": "code",
   "execution_count": null,
   "id": "206049ad-58af-4823-aaf1-1a454fe89fb2",
   "metadata": {},
   "outputs": [],
   "source": []
  }
 ],
 "metadata": {
  "kernelspec": {
   "display_name": "Python 3 (ipykernel)",
   "language": "python",
   "name": "python3"
  },
  "language_info": {
   "codemirror_mode": {
    "name": "ipython",
    "version": 3
   },
   "file_extension": ".py",
   "mimetype": "text/x-python",
   "name": "python",
   "nbconvert_exporter": "python",
   "pygments_lexer": "ipython3",
   "version": "3.13.5"
  }
 },
 "nbformat": 4,
 "nbformat_minor": 5
}
