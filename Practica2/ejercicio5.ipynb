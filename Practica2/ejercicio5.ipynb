{
 "cells": [
  {
   "cell_type": "code",
   "execution_count": 26,
   "id": "f3607757-2bed-4137-862f-6dede4628c66",
   "metadata": {},
   "outputs": [
    {
     "name": "stdout",
     "output_type": "stream",
     "text": [
      "Precision del Canadiense: 0.9047619047619048\n",
      "Precision de la Rosa: 0.9682539682539683\n",
      "Precision de la Kama: 0.9047619047619048\n"
     ]
    }
   ],
   "source": [
    "import pandas as pd\n",
    "import numpy as np \n",
    "from sklearn.preprocessing import StandardScaler\n",
    "from sklearn.linear_model import Perceptron\n",
    "from sklearn.metrics import accuracy_score\n",
    "from sklearn.model_selection import train_test_split\n",
    "\n",
    "\n",
    "df=pd.read_csv(\"semillas.csv\")\n",
    "dummies= pd.get_dummies(df[\"Clase\"]).astype(int)\n",
    "df=pd.concat([df.drop(\"Clase\",axis=1), dummies],axis=1)\n",
    "df=df.rename(columns={\"Tipo1\":\"Kama\",\"Tipo2\":\"Rosa\",\"Tipo3\":\"Canadiense\"})\n",
    "\n",
    "y_strat=df[[\"Kama\",\"Rosa\",\"Canadiense\"]].idxmax(axis=1)\n",
    "train_idx,test_idx=train_test_split(df.index,test_size=0.3,random_state=42,stratify=y_strat)\n",
    "\n",
    "#entrenar para reconocer si es canadiense o no.\n",
    "x=df.drop([\"Kama\",\"Rosa\",\"Canadiense\"],axis=1)\n",
    "y=df[\"Canadiense\"]\n",
    "scaler=StandardScaler()\n",
    "x_train=scaler.fit_transform(x.loc[train_idx])\n",
    "x_test=scaler.transform(x.loc[test_idx])\n",
    "y_train=y.loc[train_idx]\n",
    "y_test=y.loc[test_idx]\n",
    "modelo=Perceptron(max_iter=200,eta0=0.05,random_state=42)\n",
    "modelo.fit(x_train,y_train)\n",
    "y_pred=modelo.predict(x_test)\n",
    "print(\"Precision del Canadiense:\",accuracy_score(y_test,y_pred))\n",
    "\n",
    "#entrenar para reconocer si es rosa o no.\n",
    "y=df[\"Rosa\"]\n",
    "scaler=StandardScaler()\n",
    "x_train=scaler.fit_transform(x.loc[train_idx])\n",
    "x_test=scaler.transform(x.loc[test_idx])\n",
    "y_train=y.loc[train_idx]\n",
    "y_test=y.loc[test_idx]\n",
    "modelo=Perceptron(max_iter=200,eta0=0.05,random_state=42)\n",
    "modelo.fit(x_train,y_train)\n",
    "y_pred=modelo.predict(x_test)\n",
    "print(\"Precision de la Rosa:\",accuracy_score(y_test,y_pred))\n",
    "\n",
    "#entrenar para reconocer si es Kama o no.\n",
    "y=df[\"Kama\"]\n",
    "scaler=StandardScaler()\n",
    "x_train=scaler.fit_transform(x.loc[train_idx])\n",
    "x_test=scaler.transform(x.loc[test_idx])\n",
    "y_train=y.loc[train_idx]\n",
    "y_test=y.loc[test_idx]\n",
    "modelo=Perceptron(max_iter=200,eta0=0.05,random_state=42)\n",
    "modelo.fit(x_train,y_train)\n",
    "y_pred=modelo.predict(x_test)\n",
    "print(\"Precision de la Kama:\",accuracy_score(y_test,y_pred))"
   ]
  },
  {
   "cell_type": "code",
   "execution_count": null,
   "id": "2170baad-aec3-415a-bb64-c0989b4f1247",
   "metadata": {},
   "outputs": [],
   "source": []
  }
 ],
 "metadata": {
  "kernelspec": {
   "display_name": "Python 3 (ipykernel)",
   "language": "python",
   "name": "python3"
  },
  "language_info": {
   "codemirror_mode": {
    "name": "ipython",
    "version": 3
   },
   "file_extension": ".py",
   "mimetype": "text/x-python",
   "name": "python",
   "nbconvert_exporter": "python",
   "pygments_lexer": "ipython3",
   "version": "3.13.5"
  }
 },
 "nbformat": 4,
 "nbformat_minor": 5
}
